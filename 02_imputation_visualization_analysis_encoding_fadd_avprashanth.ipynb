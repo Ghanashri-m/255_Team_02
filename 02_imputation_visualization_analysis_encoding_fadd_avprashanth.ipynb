{
 "cells": [
  {
   "cell_type": "markdown",
   "metadata": {
    "colab_type": "text",
    "id": "view-in-github"
   },
   "source": [
    "<a href=\"https://colab.research.google.com/github/Ghanashri-m/CMPE255/blob/prashanth-branch/02_imputation_visualization_analysis_encoding_fadd_avprashanth.ipynb\" target=\"_parent\"><img src=\"https://colab.research.google.com/assets/colab-badge.svg\" alt=\"Open In Colab\"/></a>"
   ]
  },
  {
   "cell_type": "markdown",
   "metadata": {
    "id": "40ODRro5HKGl"
   },
   "source": [
    "# Import all the necessary libraries"
   ]
  },
  {
   "cell_type": "code",
   "execution_count": 1,
   "metadata": {
    "id": "n40MO6OqEK2c"
   },
   "outputs": [
    {
     "name": "stdout",
     "output_type": "stream",
     "text": [
      "Collecting missingno\n",
      "  Downloading missingno-0.5.1-py3-none-any.whl (8.7 kB)\n",
      "Requirement already satisfied: matplotlib in c:\\users\\checkout\\anaconda3\\lib\\site-packages (from missingno) (3.4.3)\n",
      "Requirement already satisfied: numpy in c:\\users\\checkout\\anaconda3\\lib\\site-packages (from missingno) (1.20.3)\n",
      "Requirement already satisfied: seaborn in c:\\users\\checkout\\anaconda3\\lib\\site-packages (from missingno) (0.11.2)\n",
      "Requirement already satisfied: scipy in c:\\users\\checkout\\anaconda3\\lib\\site-packages (from missingno) (1.7.1)\n",
      "Requirement already satisfied: python-dateutil>=2.7 in c:\\users\\checkout\\anaconda3\\lib\\site-packages (from matplotlib->missingno) (2.8.2)\n",
      "Requirement already satisfied: cycler>=0.10 in c:\\users\\checkout\\anaconda3\\lib\\site-packages (from matplotlib->missingno) (0.10.0)\n",
      "Requirement already satisfied: kiwisolver>=1.0.1 in c:\\users\\checkout\\anaconda3\\lib\\site-packages (from matplotlib->missingno) (1.3.1)\n",
      "Requirement already satisfied: pillow>=6.2.0 in c:\\users\\checkout\\anaconda3\\lib\\site-packages (from matplotlib->missingno) (8.4.0)\n",
      "Requirement already satisfied: pyparsing>=2.2.1 in c:\\users\\checkout\\anaconda3\\lib\\site-packages (from matplotlib->missingno) (3.0.4)\n",
      "Requirement already satisfied: six in c:\\users\\checkout\\anaconda3\\lib\\site-packages (from cycler>=0.10->matplotlib->missingno) (1.16.0)\n",
      "Requirement already satisfied: pandas>=0.23 in c:\\users\\checkout\\anaconda3\\lib\\site-packages (from seaborn->missingno) (1.3.4)\n",
      "Requirement already satisfied: pytz>=2017.3 in c:\\users\\checkout\\anaconda3\\lib\\site-packages (from pandas>=0.23->seaborn->missingno) (2021.3)\n",
      "Installing collected packages: missingno\n",
      "Successfully installed missingno-0.5.1\n"
     ]
    }
   ],
   "source": [
    "import warnings\n",
    "import numpy as np\n",
    "import pandas as pd\n",
    "import seaborn as sns\n",
    "import matplotlib.pyplot as plt\n",
    "import missingno as msno\n",
    "\n",
    "warnings.filterwarnings(\"ignore\")"
   ]
  },
  {
   "cell_type": "markdown",
   "metadata": {
    "id": "rJJ2CjDLHQlK"
   },
   "source": [
    "# Load the dataset"
   ]
  },
  {
   "cell_type": "code",
   "execution_count": 9,
   "metadata": {
    "id": "YOpEesyjEt20"
   },
   "outputs": [
    {
     "ename": "FileNotFoundError",
     "evalue": "[Errno 2] No such file or directory: 'C:\\\\Users\\\\Checkout\\\\Downloads\\\\train_data (1).csv'",
     "output_type": "error",
     "traceback": [
      "\u001b[1;31m---------------------------------------------------------------------------\u001b[0m",
      "\u001b[1;31mFileNotFoundError\u001b[0m                         Traceback (most recent call last)",
      "\u001b[1;32m~\\AppData\\Local\\Temp/ipykernel_33372/1649153070.py\u001b[0m in \u001b[0;36m<module>\u001b[1;34m\u001b[0m\n\u001b[1;32m----> 1\u001b[1;33m \u001b[0mtrain_data\u001b[0m \u001b[1;33m=\u001b[0m \u001b[0mpd\u001b[0m\u001b[1;33m.\u001b[0m\u001b[0mread_csv\u001b[0m\u001b[1;33m(\u001b[0m\u001b[1;34mr\"C:\\Users\\Checkout\\Downloads\\train_data (1).csv\"\u001b[0m\u001b[1;33m)\u001b[0m\u001b[1;33m\u001b[0m\u001b[1;33m\u001b[0m\u001b[0m\n\u001b[0m\u001b[0;32m      2\u001b[0m \u001b[0mtest_data\u001b[0m \u001b[1;33m=\u001b[0m \u001b[0mpd\u001b[0m\u001b[1;33m.\u001b[0m\u001b[0mread_csv\u001b[0m\u001b[1;33m(\u001b[0m\u001b[1;34m\"test_data.csv\"\u001b[0m\u001b[1;33m)\u001b[0m\u001b[1;33m\u001b[0m\u001b[1;33m\u001b[0m\u001b[0m\n\u001b[0;32m      3\u001b[0m \u001b[1;33m\u001b[0m\u001b[0m\n\u001b[0;32m      4\u001b[0m \u001b[1;31m# Creating a copy of the dataframe to avoid indices conflicts in future\u001b[0m\u001b[1;33m\u001b[0m\u001b[1;33m\u001b[0m\u001b[0m\n\u001b[0;32m      5\u001b[0m \u001b[0mcopy_train\u001b[0m \u001b[1;33m=\u001b[0m \u001b[0mtrain_data\u001b[0m\u001b[1;33m.\u001b[0m\u001b[0mcopy\u001b[0m\u001b[1;33m(\u001b[0m\u001b[1;33m)\u001b[0m\u001b[1;33m\u001b[0m\u001b[1;33m\u001b[0m\u001b[0m\n",
      "\u001b[1;32m~\\anaconda3\\lib\\site-packages\\pandas\\util\\_decorators.py\u001b[0m in \u001b[0;36mwrapper\u001b[1;34m(*args, **kwargs)\u001b[0m\n\u001b[0;32m    309\u001b[0m                     \u001b[0mstacklevel\u001b[0m\u001b[1;33m=\u001b[0m\u001b[0mstacklevel\u001b[0m\u001b[1;33m,\u001b[0m\u001b[1;33m\u001b[0m\u001b[1;33m\u001b[0m\u001b[0m\n\u001b[0;32m    310\u001b[0m                 )\n\u001b[1;32m--> 311\u001b[1;33m             \u001b[1;32mreturn\u001b[0m \u001b[0mfunc\u001b[0m\u001b[1;33m(\u001b[0m\u001b[1;33m*\u001b[0m\u001b[0margs\u001b[0m\u001b[1;33m,\u001b[0m \u001b[1;33m**\u001b[0m\u001b[0mkwargs\u001b[0m\u001b[1;33m)\u001b[0m\u001b[1;33m\u001b[0m\u001b[1;33m\u001b[0m\u001b[0m\n\u001b[0m\u001b[0;32m    312\u001b[0m \u001b[1;33m\u001b[0m\u001b[0m\n\u001b[0;32m    313\u001b[0m         \u001b[1;32mreturn\u001b[0m \u001b[0mwrapper\u001b[0m\u001b[1;33m\u001b[0m\u001b[1;33m\u001b[0m\u001b[0m\n",
      "\u001b[1;32m~\\anaconda3\\lib\\site-packages\\pandas\\io\\parsers\\readers.py\u001b[0m in \u001b[0;36mread_csv\u001b[1;34m(filepath_or_buffer, sep, delimiter, header, names, index_col, usecols, squeeze, prefix, mangle_dupe_cols, dtype, engine, converters, true_values, false_values, skipinitialspace, skiprows, skipfooter, nrows, na_values, keep_default_na, na_filter, verbose, skip_blank_lines, parse_dates, infer_datetime_format, keep_date_col, date_parser, dayfirst, cache_dates, iterator, chunksize, compression, thousands, decimal, lineterminator, quotechar, quoting, doublequote, escapechar, comment, encoding, encoding_errors, dialect, error_bad_lines, warn_bad_lines, on_bad_lines, delim_whitespace, low_memory, memory_map, float_precision, storage_options)\u001b[0m\n\u001b[0;32m    584\u001b[0m     \u001b[0mkwds\u001b[0m\u001b[1;33m.\u001b[0m\u001b[0mupdate\u001b[0m\u001b[1;33m(\u001b[0m\u001b[0mkwds_defaults\u001b[0m\u001b[1;33m)\u001b[0m\u001b[1;33m\u001b[0m\u001b[1;33m\u001b[0m\u001b[0m\n\u001b[0;32m    585\u001b[0m \u001b[1;33m\u001b[0m\u001b[0m\n\u001b[1;32m--> 586\u001b[1;33m     \u001b[1;32mreturn\u001b[0m \u001b[0m_read\u001b[0m\u001b[1;33m(\u001b[0m\u001b[0mfilepath_or_buffer\u001b[0m\u001b[1;33m,\u001b[0m \u001b[0mkwds\u001b[0m\u001b[1;33m)\u001b[0m\u001b[1;33m\u001b[0m\u001b[1;33m\u001b[0m\u001b[0m\n\u001b[0m\u001b[0;32m    587\u001b[0m \u001b[1;33m\u001b[0m\u001b[0m\n\u001b[0;32m    588\u001b[0m \u001b[1;33m\u001b[0m\u001b[0m\n",
      "\u001b[1;32m~\\anaconda3\\lib\\site-packages\\pandas\\io\\parsers\\readers.py\u001b[0m in \u001b[0;36m_read\u001b[1;34m(filepath_or_buffer, kwds)\u001b[0m\n\u001b[0;32m    480\u001b[0m \u001b[1;33m\u001b[0m\u001b[0m\n\u001b[0;32m    481\u001b[0m     \u001b[1;31m# Create the parser.\u001b[0m\u001b[1;33m\u001b[0m\u001b[1;33m\u001b[0m\u001b[0m\n\u001b[1;32m--> 482\u001b[1;33m     \u001b[0mparser\u001b[0m \u001b[1;33m=\u001b[0m \u001b[0mTextFileReader\u001b[0m\u001b[1;33m(\u001b[0m\u001b[0mfilepath_or_buffer\u001b[0m\u001b[1;33m,\u001b[0m \u001b[1;33m**\u001b[0m\u001b[0mkwds\u001b[0m\u001b[1;33m)\u001b[0m\u001b[1;33m\u001b[0m\u001b[1;33m\u001b[0m\u001b[0m\n\u001b[0m\u001b[0;32m    483\u001b[0m \u001b[1;33m\u001b[0m\u001b[0m\n\u001b[0;32m    484\u001b[0m     \u001b[1;32mif\u001b[0m \u001b[0mchunksize\u001b[0m \u001b[1;32mor\u001b[0m \u001b[0miterator\u001b[0m\u001b[1;33m:\u001b[0m\u001b[1;33m\u001b[0m\u001b[1;33m\u001b[0m\u001b[0m\n",
      "\u001b[1;32m~\\anaconda3\\lib\\site-packages\\pandas\\io\\parsers\\readers.py\u001b[0m in \u001b[0;36m__init__\u001b[1;34m(self, f, engine, **kwds)\u001b[0m\n\u001b[0;32m    809\u001b[0m             \u001b[0mself\u001b[0m\u001b[1;33m.\u001b[0m\u001b[0moptions\u001b[0m\u001b[1;33m[\u001b[0m\u001b[1;34m\"has_index_names\"\u001b[0m\u001b[1;33m]\u001b[0m \u001b[1;33m=\u001b[0m \u001b[0mkwds\u001b[0m\u001b[1;33m[\u001b[0m\u001b[1;34m\"has_index_names\"\u001b[0m\u001b[1;33m]\u001b[0m\u001b[1;33m\u001b[0m\u001b[1;33m\u001b[0m\u001b[0m\n\u001b[0;32m    810\u001b[0m \u001b[1;33m\u001b[0m\u001b[0m\n\u001b[1;32m--> 811\u001b[1;33m         \u001b[0mself\u001b[0m\u001b[1;33m.\u001b[0m\u001b[0m_engine\u001b[0m \u001b[1;33m=\u001b[0m \u001b[0mself\u001b[0m\u001b[1;33m.\u001b[0m\u001b[0m_make_engine\u001b[0m\u001b[1;33m(\u001b[0m\u001b[0mself\u001b[0m\u001b[1;33m.\u001b[0m\u001b[0mengine\u001b[0m\u001b[1;33m)\u001b[0m\u001b[1;33m\u001b[0m\u001b[1;33m\u001b[0m\u001b[0m\n\u001b[0m\u001b[0;32m    812\u001b[0m \u001b[1;33m\u001b[0m\u001b[0m\n\u001b[0;32m    813\u001b[0m     \u001b[1;32mdef\u001b[0m \u001b[0mclose\u001b[0m\u001b[1;33m(\u001b[0m\u001b[0mself\u001b[0m\u001b[1;33m)\u001b[0m\u001b[1;33m:\u001b[0m\u001b[1;33m\u001b[0m\u001b[1;33m\u001b[0m\u001b[0m\n",
      "\u001b[1;32m~\\anaconda3\\lib\\site-packages\\pandas\\io\\parsers\\readers.py\u001b[0m in \u001b[0;36m_make_engine\u001b[1;34m(self, engine)\u001b[0m\n\u001b[0;32m   1038\u001b[0m             )\n\u001b[0;32m   1039\u001b[0m         \u001b[1;31m# error: Too many arguments for \"ParserBase\"\u001b[0m\u001b[1;33m\u001b[0m\u001b[1;33m\u001b[0m\u001b[0m\n\u001b[1;32m-> 1040\u001b[1;33m         \u001b[1;32mreturn\u001b[0m \u001b[0mmapping\u001b[0m\u001b[1;33m[\u001b[0m\u001b[0mengine\u001b[0m\u001b[1;33m]\u001b[0m\u001b[1;33m(\u001b[0m\u001b[0mself\u001b[0m\u001b[1;33m.\u001b[0m\u001b[0mf\u001b[0m\u001b[1;33m,\u001b[0m \u001b[1;33m**\u001b[0m\u001b[0mself\u001b[0m\u001b[1;33m.\u001b[0m\u001b[0moptions\u001b[0m\u001b[1;33m)\u001b[0m  \u001b[1;31m# type: ignore[call-arg]\u001b[0m\u001b[1;33m\u001b[0m\u001b[1;33m\u001b[0m\u001b[0m\n\u001b[0m\u001b[0;32m   1041\u001b[0m \u001b[1;33m\u001b[0m\u001b[0m\n\u001b[0;32m   1042\u001b[0m     \u001b[1;32mdef\u001b[0m \u001b[0m_failover_to_python\u001b[0m\u001b[1;33m(\u001b[0m\u001b[0mself\u001b[0m\u001b[1;33m)\u001b[0m\u001b[1;33m:\u001b[0m\u001b[1;33m\u001b[0m\u001b[1;33m\u001b[0m\u001b[0m\n",
      "\u001b[1;32m~\\anaconda3\\lib\\site-packages\\pandas\\io\\parsers\\c_parser_wrapper.py\u001b[0m in \u001b[0;36m__init__\u001b[1;34m(self, src, **kwds)\u001b[0m\n\u001b[0;32m     49\u001b[0m \u001b[1;33m\u001b[0m\u001b[0m\n\u001b[0;32m     50\u001b[0m         \u001b[1;31m# open handles\u001b[0m\u001b[1;33m\u001b[0m\u001b[1;33m\u001b[0m\u001b[0m\n\u001b[1;32m---> 51\u001b[1;33m         \u001b[0mself\u001b[0m\u001b[1;33m.\u001b[0m\u001b[0m_open_handles\u001b[0m\u001b[1;33m(\u001b[0m\u001b[0msrc\u001b[0m\u001b[1;33m,\u001b[0m \u001b[0mkwds\u001b[0m\u001b[1;33m)\u001b[0m\u001b[1;33m\u001b[0m\u001b[1;33m\u001b[0m\u001b[0m\n\u001b[0m\u001b[0;32m     52\u001b[0m         \u001b[1;32massert\u001b[0m \u001b[0mself\u001b[0m\u001b[1;33m.\u001b[0m\u001b[0mhandles\u001b[0m \u001b[1;32mis\u001b[0m \u001b[1;32mnot\u001b[0m \u001b[1;32mNone\u001b[0m\u001b[1;33m\u001b[0m\u001b[1;33m\u001b[0m\u001b[0m\n\u001b[0;32m     53\u001b[0m \u001b[1;33m\u001b[0m\u001b[0m\n",
      "\u001b[1;32m~\\anaconda3\\lib\\site-packages\\pandas\\io\\parsers\\base_parser.py\u001b[0m in \u001b[0;36m_open_handles\u001b[1;34m(self, src, kwds)\u001b[0m\n\u001b[0;32m    220\u001b[0m         \u001b[0mLet\u001b[0m \u001b[0mthe\u001b[0m \u001b[0mreaders\u001b[0m \u001b[0mopen\u001b[0m \u001b[0mIOHandles\u001b[0m \u001b[0mafter\u001b[0m \u001b[0mthey\u001b[0m \u001b[0mare\u001b[0m \u001b[0mdone\u001b[0m \u001b[1;32mwith\u001b[0m \u001b[0mtheir\u001b[0m \u001b[0mpotential\u001b[0m \u001b[0mraises\u001b[0m\u001b[1;33m.\u001b[0m\u001b[1;33m\u001b[0m\u001b[1;33m\u001b[0m\u001b[0m\n\u001b[0;32m    221\u001b[0m         \"\"\"\n\u001b[1;32m--> 222\u001b[1;33m         self.handles = get_handle(\n\u001b[0m\u001b[0;32m    223\u001b[0m             \u001b[0msrc\u001b[0m\u001b[1;33m,\u001b[0m\u001b[1;33m\u001b[0m\u001b[1;33m\u001b[0m\u001b[0m\n\u001b[0;32m    224\u001b[0m             \u001b[1;34m\"r\"\u001b[0m\u001b[1;33m,\u001b[0m\u001b[1;33m\u001b[0m\u001b[1;33m\u001b[0m\u001b[0m\n",
      "\u001b[1;32m~\\anaconda3\\lib\\site-packages\\pandas\\io\\common.py\u001b[0m in \u001b[0;36mget_handle\u001b[1;34m(path_or_buf, mode, encoding, compression, memory_map, is_text, errors, storage_options)\u001b[0m\n\u001b[0;32m    700\u001b[0m         \u001b[1;32mif\u001b[0m \u001b[0mioargs\u001b[0m\u001b[1;33m.\u001b[0m\u001b[0mencoding\u001b[0m \u001b[1;32mand\u001b[0m \u001b[1;34m\"b\"\u001b[0m \u001b[1;32mnot\u001b[0m \u001b[1;32min\u001b[0m \u001b[0mioargs\u001b[0m\u001b[1;33m.\u001b[0m\u001b[0mmode\u001b[0m\u001b[1;33m:\u001b[0m\u001b[1;33m\u001b[0m\u001b[1;33m\u001b[0m\u001b[0m\n\u001b[0;32m    701\u001b[0m             \u001b[1;31m# Encoding\u001b[0m\u001b[1;33m\u001b[0m\u001b[1;33m\u001b[0m\u001b[0m\n\u001b[1;32m--> 702\u001b[1;33m             handle = open(\n\u001b[0m\u001b[0;32m    703\u001b[0m                 \u001b[0mhandle\u001b[0m\u001b[1;33m,\u001b[0m\u001b[1;33m\u001b[0m\u001b[1;33m\u001b[0m\u001b[0m\n\u001b[0;32m    704\u001b[0m                 \u001b[0mioargs\u001b[0m\u001b[1;33m.\u001b[0m\u001b[0mmode\u001b[0m\u001b[1;33m,\u001b[0m\u001b[1;33m\u001b[0m\u001b[1;33m\u001b[0m\u001b[0m\n",
      "\u001b[1;31mFileNotFoundError\u001b[0m: [Errno 2] No such file or directory: 'C:\\\\Users\\\\Checkout\\\\Downloads\\\\train_data (1).csv'"
     ]
    }
   ],
   "source": [
    "train_data = pd.read_csv(r\"C:\\Users\\Checkout\\Downloads\\train_data (1).csv\")\n",
    "test_data = pd.read_csv(\"test_data.csv\")\n",
    "\n",
    "# Creating a copy of the dataframe to avoid indices conflicts in future\n",
    "copy_train = train_data.copy()\n",
    "copy_test = test_data.copy()\n",
    "test_dataset = copy_test"
   ]
  },
  {
   "cell_type": "code",
   "execution_count": null,
   "metadata": {
    "colab": {
     "base_uri": "https://localhost:8080/",
     "height": 0
    },
    "id": "_5I3H6GdEyNZ",
    "outputId": "dac65d89-cc36-4bdb-a6ab-b10e99208cca"
   },
   "outputs": [],
   "source": [
    "copy_train.head(10)"
   ]
  },
  {
   "cell_type": "code",
   "execution_count": null,
   "metadata": {
    "colab": {
     "base_uri": "https://localhost:8080/",
     "height": 0
    },
    "id": "rECi9DE6N7e3",
    "outputId": "3ab9b442-9dcf-4dec-9676-ae4e27fd0dcd"
   },
   "outputs": [],
   "source": [
    "copy_test.head(10)"
   ]
  },
  {
   "cell_type": "code",
   "execution_count": null,
   "metadata": {
    "id": "KzWwSifTOIVj"
   },
   "outputs": [],
   "source": [
    "sample_submission= pd.read_csv(\"sample_submission.csv\")"
   ]
  },
  {
   "cell_type": "code",
   "execution_count": null,
   "metadata": {
    "colab": {
     "base_uri": "https://localhost:8080/",
     "height": 0
    },
    "id": "8IgNErIKOnr7",
    "outputId": "7cf147e5-f284-4b03-d0e2-306bd99a1fae"
   },
   "outputs": [],
   "source": [
    "sample_submission.head(5)"
   ]
  },
  {
   "cell_type": "markdown",
   "metadata": {
    "id": "G3aqXCPvOsG7"
   },
   "source": [
    "This means that we have to keep the id. Because it will be included in the finals submission and the target variable is the **Salesprice**."
   ]
  },
  {
   "cell_type": "code",
   "execution_count": null,
   "metadata": {
    "colab": {
     "base_uri": "https://localhost:8080/",
     "height": 0
    },
    "id": "BwETsbfJP6dS",
    "outputId": "da192497-40c8-409f-f851-101198a2de1e"
   },
   "outputs": [],
   "source": [
    "housing_dataset  = pd.concat([copy_train, copy_test], axis=0,sort=False)\n",
    "housing_dataset"
   ]
  },
  {
   "cell_type": "code",
   "execution_count": null,
   "metadata": {
    "colab": {
     "base_uri": "https://localhost:8080/",
     "height": 0
    },
    "id": "ACgvHYL3DDA4",
    "outputId": "9163e2bb-057c-4684-e88e-c1dcf8ad45f7"
   },
   "outputs": [],
   "source": [
    "msno.bar(housing_dataset)"
   ]
  },
  {
   "cell_type": "markdown",
   "metadata": {
    "id": "GBJNPPA8dMe0"
   },
   "source": [
    "The above plot gives us an estimation on the number of null values in each column"
   ]
  },
  {
   "cell_type": "code",
   "execution_count": null,
   "metadata": {
    "colab": {
     "base_uri": "https://localhost:8080/",
     "height": 0
    },
    "id": "L8voE_6oEEPY",
    "outputId": "9b2d391b-b639-4c5f-f2c5-6201b163df3b"
   },
   "outputs": [],
   "source": [
    "msno.dendrogram(housing_dataset)"
   ]
  },
  {
   "cell_type": "markdown",
   "metadata": {
    "id": "xeZFDFkSdV7X"
   },
   "source": [
    "The dendrogram plot provides a tree-like graph generated through hierarchical clustering and groups together columns that have strong correlations in nullity."
   ]
  },
  {
   "cell_type": "markdown",
   "metadata": {
    "id": "izqyI62ZHVL9"
   },
   "source": [
    "# Clean Data\n",
    "\n"
   ]
  },
  {
   "cell_type": "code",
   "execution_count": null,
   "metadata": {
    "colab": {
     "base_uri": "https://localhost:8080/",
     "height": 0
    },
    "id": "UkJ6uYuQ-6wB",
    "outputId": "672dcb71-19b4-4d0e-e330-aa3fecebee81"
   },
   "outputs": [],
   "source": [
    "def plot_nas(df: pd.DataFrame):\n",
    "    if df.isnull().sum().sum() != 0:\n",
    "        plot_width, plot_height = (20,15)\n",
    "        plt.rcParams['figure.figsize'] = (plot_width,plot_height)\n",
    "        na_df = (df.isnull().sum() / len(df)) * 100      \n",
    "        na_df = na_df.drop(na_df[na_df == 0].index).sort_values(ascending=False)\n",
    "        missing_data = pd.DataFrame({'Missing Ratio %' :na_df})\n",
    "        missing_data.plot(kind = \"bar\")\n",
    "        plt.show()\n",
    "    else:\n",
    "        print('No NANs found')\n",
    "plot_nas(housing_dataset)"
   ]
  },
  {
   "cell_type": "markdown",
   "metadata": {
    "id": "odjORfwZNIUN"
   },
   "source": [
    "Percentage of missing values"
   ]
  },
  {
   "cell_type": "code",
   "execution_count": null,
   "metadata": {
    "id": "VcYDz0_8OZdA"
   },
   "outputs": [],
   "source": [
    "NAN = [(col, housing_dataset[col].isna().mean()*100) for col in housing_dataset]\n",
    "NAN = pd.DataFrame(NAN, columns=[\"column_name\", \"percentage\"])"
   ]
  },
  {
   "cell_type": "code",
   "execution_count": null,
   "metadata": {
    "colab": {
     "base_uri": "https://localhost:8080/",
     "height": 0
    },
    "id": "JSxUU6o6O1gT",
    "outputId": "fb298542-5e65-4712-8340-381c7b2ba9e5"
   },
   "outputs": [],
   "source": [
    "NAN = NAN[NAN.percentage > 80]\n",
    "NAN.sort_values(\"percentage\", ascending=False)"
   ]
  },
  {
   "cell_type": "code",
   "execution_count": null,
   "metadata": {
    "colab": {
     "base_uri": "https://localhost:8080/"
    },
    "id": "QwIASOWNPdl7",
    "outputId": "b14e7d47-9326-4185-bd2f-ae76ec30ac4e"
   },
   "outputs": [],
   "source": [
    "housing_dataset.shape"
   ]
  },
  {
   "cell_type": "code",
   "execution_count": null,
   "metadata": {
    "id": "iEvlvB35O8AM"
   },
   "outputs": [],
   "source": [
    "#From above we can identify that the columns PoolQC, MiscFeature, Alley and Fence contain significant amount of null values and we can get rid of these colums\n",
    "housing_dataset = housing_dataset.drop(axis = 1, columns=\"PoolQC\")\n",
    "housing_dataset = housing_dataset.drop(axis = 1, columns=\"MiscFeature\")\n",
    "housing_dataset = housing_dataset.drop(axis = 1, columns=\"Alley\")\n",
    "housing_dataset = housing_dataset.drop(axis = 1, columns=\"Fence\")"
   ]
  },
  {
   "cell_type": "code",
   "execution_count": null,
   "metadata": {
    "colab": {
     "base_uri": "https://localhost:8080/"
    },
    "id": "sjCQO7oZF8q2",
    "outputId": "2a876d52-1dbc-4c3e-b252-37595da7bef7"
   },
   "outputs": [],
   "source": [
    "housing_dataset.shape"
   ]
  },
  {
   "cell_type": "markdown",
   "metadata": {
    "id": "jrw_txvjz_S8"
   },
   "source": [
    "Reduced shape of the dataframe after removing the columns which has more than 80 percent of null values"
   ]
  },
  {
   "cell_type": "markdown",
   "metadata": {
    "id": "igiTOZRwWJQg"
   },
   "source": [
    "# Splitting into numerical and categorical data\n"
   ]
  },
  {
   "cell_type": "code",
   "execution_count": null,
   "metadata": {
    "id": "hSUbEcjTyWK0"
   },
   "outputs": [],
   "source": [
    "object_columns = housing_dataset.select_dtypes(include=['object'])\n",
    "numeric_columns =housing_dataset.select_dtypes(exclude=['object'])"
   ]
  },
  {
   "cell_type": "markdown",
   "metadata": {
    "id": "qF6Hdbnl0XtV"
   },
   "source": [
    "Splitting the dataframe into the columns which has numerical and categorical features into object_columns and numeric_columns respectively."
   ]
  },
  {
   "cell_type": "code",
   "execution_count": null,
   "metadata": {
    "colab": {
     "base_uri": "https://localhost:8080/"
    },
    "id": "ukhke4_Vyybd",
    "outputId": "1f40369d-f12e-4667-ee4f-74e0b70d9b50"
   },
   "outputs": [],
   "source": [
    "len(object_columns.columns)"
   ]
  },
  {
   "cell_type": "code",
   "execution_count": null,
   "metadata": {
    "colab": {
     "base_uri": "https://localhost:8080/"
    },
    "id": "2XDENsDqy3k3",
    "outputId": "a92ee689-8989-461a-a518-a890e463edca"
   },
   "outputs": [],
   "source": [
    "len(numeric_columns.columns)"
   ]
  },
  {
   "cell_type": "markdown",
   "metadata": {
    "id": "HucW0c1H1WVv"
   },
   "source": [
    "In total it can be seen that there are in total 39 and 38 columns which are categorical and numeric respectively."
   ]
  },
  {
   "cell_type": "code",
   "execution_count": null,
   "metadata": {
    "colab": {
     "base_uri": "https://localhost:8080/"
    },
    "id": "g4KOBb7zHFKO",
    "outputId": "21378677-4314-4a6c-d205-d0b7b456e4c8"
   },
   "outputs": [],
   "source": [
    "object_columns.dtypes"
   ]
  },
  {
   "cell_type": "code",
   "execution_count": null,
   "metadata": {
    "colab": {
     "base_uri": "https://localhost:8080/"
    },
    "id": "mrL39PpU1873",
    "outputId": "4401f292-bfe6-409a-eaf7-cc82cdf79ae2"
   },
   "outputs": [],
   "source": [
    "numeric_columns.dtypes"
   ]
  },
  {
   "cell_type": "code",
   "execution_count": null,
   "metadata": {
    "colab": {
     "base_uri": "https://localhost:8080/"
    },
    "id": "FnCXWhbQ4bS8",
    "outputId": "aacce6ea-e487-4ade-d169-6ddb331edd98"
   },
   "outputs": [],
   "source": [
    "null_categorical_counts = object_columns.isnull().sum()\n",
    "print(\"Null values in each column:\\n{}\".format(null_categorical_counts))"
   ]
  },
  {
   "cell_type": "markdown",
   "metadata": {
    "id": "ujyJvDW1WSHy"
   },
   "source": [
    "## Imputing Missing Values"
   ]
  },
  {
   "cell_type": "code",
   "execution_count": null,
   "metadata": {
    "colab": {
     "base_uri": "https://localhost:8080/"
    },
    "id": "89UokmL24eP1",
    "outputId": "30947c5b-9d78-4b7d-f4d7-af3a0fed2f21"
   },
   "outputs": [],
   "source": [
    "print(f\"Unique values in MSZoning columns: {housing_dataset['MSZoning'].unique()}, Total unique value count:{len(housing_dataset['MSZoning'].unique())} \")\n",
    "print(f\"Unique values in Utilities columns: {housing_dataset['Utilities'].unique()}, Total unique value count:{len(housing_dataset['Utilities'].unique())} \")\n",
    "print(f\"Unique values in Exterior1st columns: {housing_dataset['Exterior1st'].unique()}, Total unique value count:{len(housing_dataset['Exterior1st'].unique())} \")\n",
    "print(f\"Unique values in Exterior2nd columns: {housing_dataset['Exterior2nd'].unique()}, Total unique value count:{len(housing_dataset['Exterior2nd'].unique())} \")\n",
    "print(f\"Unique values in KitchenQual columns: {housing_dataset['KitchenQual'].unique()}, Total unique value count:{len(housing_dataset['KitchenQual'].unique())} \")\n",
    "print(f\"Unique values in Functional columns: {housing_dataset['Functional'].unique()}, Total unique value count:{len(housing_dataset['Functional'].unique())} \")\n",
    "print(f\"Unique values in SaleType columns: {housing_dataset['SaleType'].unique()}, Total unique value count:{len(housing_dataset['SaleType'].unique())} \")\n",
    "print(f\"Unique values in MasVnrType columns: {housing_dataset['MasVnrType'].unique()}, Total unique value count:{len(housing_dataset['MasVnrType'].unique())} \")\n",
    "print(f\"Unique values in BsmtQual columns: {housing_dataset['BsmtQual'].unique()}, Total unique value count:{len(housing_dataset['BsmtQual'].unique())} \")\n",
    "print(f\"Unique values in BsmtCond columns: {housing_dataset['BsmtCond'].unique()}, Total unique value count:{len(housing_dataset['BsmtCond'].unique())} \")\n",
    "print(f\"Unique values in BsmtExposure columns: {housing_dataset['BsmtExposure'].unique()}, Total unique value count:{len(housing_dataset['BsmtExposure'].unique())} \")\n",
    "print(f\"Unique values in BsmtFinType1 columns: {housing_dataset['BsmtFinType1'].unique()}, Total unique value count:{len(housing_dataset['BsmtFinType1'].unique())} \")\n",
    "print(f\"Unique values in BsmtFinType2 columns: {housing_dataset['BsmtFinType2'].unique()}, Total unique value count:{len(housing_dataset['BsmtFinType2'].unique())} \")\n",
    "print(f\"Unique values in GarageType columns: {housing_dataset['GarageType'].unique()}, Total unique value count:{len(housing_dataset['GarageType'].unique())} \")\n",
    "print(f\"Unique values in GarageFinish columns: {housing_dataset['GarageFinish'].unique()}, Total unique value count:{len(housing_dataset['GarageFinish'].unique())} \")\n",
    "print(f\"Unique values in GarageQual columns: {housing_dataset['GarageQual'].unique()}, Total unique value count:{len(housing_dataset['GarageQual'].unique())} \")\n",
    "print(f\"Unique values in GarageCond columns: {housing_dataset['GarageCond'].unique()}, Total unique value count:{len(housing_dataset['GarageCond'].unique())} \")\n",
    "print(f\"Unique values in Electrical columns: {housing_dataset['Electrical'].unique()}, Total unique value count:{len(housing_dataset['Electrical'].unique())} \")\n",
    "print(f\"Unique values in FireplaceQu columns: {housing_dataset['FireplaceQu'].unique()}, Total unique value count:{len(housing_dataset['FireplaceQu'].unique())} \")"
   ]
  },
  {
   "cell_type": "code",
   "execution_count": null,
   "metadata": {
    "colab": {
     "base_uri": "https://localhost:8080/"
    },
    "id": "y-KjbcVCQ_-d",
    "outputId": "e55734d8-dbd8-4bfa-bb11-b11e85095d1e"
   },
   "outputs": [],
   "source": [
    "none_categorical_columns = ['BsmtQual','BsmtCond','BsmtExposure','BsmtFinType1','BsmtFinType2','GarageType','GarageFinish','GarageQual','FireplaceQu','GarageCond']\n",
    "object_columns[none_categorical_columns] = object_columns[none_categorical_columns].fillna('None')"
   ]
  },
  {
   "cell_type": "code",
   "execution_count": null,
   "metadata": {
    "colab": {
     "base_uri": "https://localhost:8080/"
    },
    "id": "gMkj1UumVn1F",
    "outputId": "f1d07241-4647-4900-ec36-88098833f6d4"
   },
   "outputs": [],
   "source": [
    "fewmiss_categorical_columns = ['MasVnrType', 'Electrical', 'MSZoning','Utilities','Exterior1st','Exterior2nd','SaleType', 'KitchenQual','Functional']\n",
    "object_columns[fewmiss_categorical_columns] = object_columns[fewmiss_categorical_columns].fillna(object_columns.mode().iloc[0])"
   ]
  },
  {
   "cell_type": "code",
   "execution_count": null,
   "metadata": {
    "colab": {
     "base_uri": "https://localhost:8080/"
    },
    "id": "w7u64LrdXcBv",
    "outputId": "63759b65-9622-41d9-c57b-c4f74e354d92"
   },
   "outputs": [],
   "source": [
    "null_categorical_counts = object_columns.isnull().sum()\n",
    "print(\"Null values in each column:\\n{}\".format(null_categorical_counts))"
   ]
  },
  {
   "cell_type": "code",
   "execution_count": null,
   "metadata": {
    "id": "C8qsN72MSKKi"
   },
   "outputs": [],
   "source": [
    "count_unique = object_columns.nunique()\n",
    "unique_val = pd.DataFrame(count_unique, columns=[\"Unique_vals\"])"
   ]
  },
  {
   "cell_type": "code",
   "execution_count": null,
   "metadata": {
    "colab": {
     "base_uri": "https://localhost:8080/",
     "height": 0
    },
    "id": "b_zemfCfSKHf",
    "outputId": "6c5d1cbc-35fb-4b87-f530-bb9c673a9b00"
   },
   "outputs": [],
   "source": [
    "unique_val"
   ]
  },
  {
   "cell_type": "code",
   "execution_count": 10,
   "metadata": {
    "colab": {
     "base_uri": "https://localhost:8080/",
     "height": 0
    },
    "id": "ghaRF0YZSKCg",
    "outputId": "07421e86-beee-4459-daac-dfd3a5829233"
   },
   "outputs": [
    {
     "ename": "FileNotFoundError",
     "evalue": "[Errno 2] No such file or directory: 'unique_vals.csv'",
     "output_type": "error",
     "traceback": [
      "\u001b[1;31m---------------------------------------------------------------------------\u001b[0m",
      "\u001b[1;31mFileNotFoundError\u001b[0m                         Traceback (most recent call last)",
      "\u001b[1;32m~\\AppData\\Local\\Temp/ipykernel_33372/3558527822.py\u001b[0m in \u001b[0;36m<module>\u001b[1;34m\u001b[0m\n\u001b[1;32m----> 1\u001b[1;33m \u001b[0munique_df\u001b[0m \u001b[1;33m=\u001b[0m \u001b[0mpd\u001b[0m\u001b[1;33m.\u001b[0m\u001b[0mread_csv\u001b[0m\u001b[1;33m(\u001b[0m\u001b[1;34m\"unique_vals.csv\"\u001b[0m\u001b[1;33m)\u001b[0m\u001b[1;33m\u001b[0m\u001b[1;33m\u001b[0m\u001b[0m\n\u001b[0m\u001b[0;32m      2\u001b[0m \u001b[0munique_df\u001b[0m\u001b[1;33m.\u001b[0m\u001b[0mhead\u001b[0m\u001b[1;33m(\u001b[0m\u001b[1;36m10\u001b[0m\u001b[1;33m)\u001b[0m\u001b[1;33m\u001b[0m\u001b[1;33m\u001b[0m\u001b[0m\n",
      "\u001b[1;32m~\\anaconda3\\lib\\site-packages\\pandas\\util\\_decorators.py\u001b[0m in \u001b[0;36mwrapper\u001b[1;34m(*args, **kwargs)\u001b[0m\n\u001b[0;32m    309\u001b[0m                     \u001b[0mstacklevel\u001b[0m\u001b[1;33m=\u001b[0m\u001b[0mstacklevel\u001b[0m\u001b[1;33m,\u001b[0m\u001b[1;33m\u001b[0m\u001b[1;33m\u001b[0m\u001b[0m\n\u001b[0;32m    310\u001b[0m                 )\n\u001b[1;32m--> 311\u001b[1;33m             \u001b[1;32mreturn\u001b[0m \u001b[0mfunc\u001b[0m\u001b[1;33m(\u001b[0m\u001b[1;33m*\u001b[0m\u001b[0margs\u001b[0m\u001b[1;33m,\u001b[0m \u001b[1;33m**\u001b[0m\u001b[0mkwargs\u001b[0m\u001b[1;33m)\u001b[0m\u001b[1;33m\u001b[0m\u001b[1;33m\u001b[0m\u001b[0m\n\u001b[0m\u001b[0;32m    312\u001b[0m \u001b[1;33m\u001b[0m\u001b[0m\n\u001b[0;32m    313\u001b[0m         \u001b[1;32mreturn\u001b[0m \u001b[0mwrapper\u001b[0m\u001b[1;33m\u001b[0m\u001b[1;33m\u001b[0m\u001b[0m\n",
      "\u001b[1;32m~\\anaconda3\\lib\\site-packages\\pandas\\io\\parsers\\readers.py\u001b[0m in \u001b[0;36mread_csv\u001b[1;34m(filepath_or_buffer, sep, delimiter, header, names, index_col, usecols, squeeze, prefix, mangle_dupe_cols, dtype, engine, converters, true_values, false_values, skipinitialspace, skiprows, skipfooter, nrows, na_values, keep_default_na, na_filter, verbose, skip_blank_lines, parse_dates, infer_datetime_format, keep_date_col, date_parser, dayfirst, cache_dates, iterator, chunksize, compression, thousands, decimal, lineterminator, quotechar, quoting, doublequote, escapechar, comment, encoding, encoding_errors, dialect, error_bad_lines, warn_bad_lines, on_bad_lines, delim_whitespace, low_memory, memory_map, float_precision, storage_options)\u001b[0m\n\u001b[0;32m    584\u001b[0m     \u001b[0mkwds\u001b[0m\u001b[1;33m.\u001b[0m\u001b[0mupdate\u001b[0m\u001b[1;33m(\u001b[0m\u001b[0mkwds_defaults\u001b[0m\u001b[1;33m)\u001b[0m\u001b[1;33m\u001b[0m\u001b[1;33m\u001b[0m\u001b[0m\n\u001b[0;32m    585\u001b[0m \u001b[1;33m\u001b[0m\u001b[0m\n\u001b[1;32m--> 586\u001b[1;33m     \u001b[1;32mreturn\u001b[0m \u001b[0m_read\u001b[0m\u001b[1;33m(\u001b[0m\u001b[0mfilepath_or_buffer\u001b[0m\u001b[1;33m,\u001b[0m \u001b[0mkwds\u001b[0m\u001b[1;33m)\u001b[0m\u001b[1;33m\u001b[0m\u001b[1;33m\u001b[0m\u001b[0m\n\u001b[0m\u001b[0;32m    587\u001b[0m \u001b[1;33m\u001b[0m\u001b[0m\n\u001b[0;32m    588\u001b[0m \u001b[1;33m\u001b[0m\u001b[0m\n",
      "\u001b[1;32m~\\anaconda3\\lib\\site-packages\\pandas\\io\\parsers\\readers.py\u001b[0m in \u001b[0;36m_read\u001b[1;34m(filepath_or_buffer, kwds)\u001b[0m\n\u001b[0;32m    480\u001b[0m \u001b[1;33m\u001b[0m\u001b[0m\n\u001b[0;32m    481\u001b[0m     \u001b[1;31m# Create the parser.\u001b[0m\u001b[1;33m\u001b[0m\u001b[1;33m\u001b[0m\u001b[0m\n\u001b[1;32m--> 482\u001b[1;33m     \u001b[0mparser\u001b[0m \u001b[1;33m=\u001b[0m \u001b[0mTextFileReader\u001b[0m\u001b[1;33m(\u001b[0m\u001b[0mfilepath_or_buffer\u001b[0m\u001b[1;33m,\u001b[0m \u001b[1;33m**\u001b[0m\u001b[0mkwds\u001b[0m\u001b[1;33m)\u001b[0m\u001b[1;33m\u001b[0m\u001b[1;33m\u001b[0m\u001b[0m\n\u001b[0m\u001b[0;32m    483\u001b[0m \u001b[1;33m\u001b[0m\u001b[0m\n\u001b[0;32m    484\u001b[0m     \u001b[1;32mif\u001b[0m \u001b[0mchunksize\u001b[0m \u001b[1;32mor\u001b[0m \u001b[0miterator\u001b[0m\u001b[1;33m:\u001b[0m\u001b[1;33m\u001b[0m\u001b[1;33m\u001b[0m\u001b[0m\n",
      "\u001b[1;32m~\\anaconda3\\lib\\site-packages\\pandas\\io\\parsers\\readers.py\u001b[0m in \u001b[0;36m__init__\u001b[1;34m(self, f, engine, **kwds)\u001b[0m\n\u001b[0;32m    809\u001b[0m             \u001b[0mself\u001b[0m\u001b[1;33m.\u001b[0m\u001b[0moptions\u001b[0m\u001b[1;33m[\u001b[0m\u001b[1;34m\"has_index_names\"\u001b[0m\u001b[1;33m]\u001b[0m \u001b[1;33m=\u001b[0m \u001b[0mkwds\u001b[0m\u001b[1;33m[\u001b[0m\u001b[1;34m\"has_index_names\"\u001b[0m\u001b[1;33m]\u001b[0m\u001b[1;33m\u001b[0m\u001b[1;33m\u001b[0m\u001b[0m\n\u001b[0;32m    810\u001b[0m \u001b[1;33m\u001b[0m\u001b[0m\n\u001b[1;32m--> 811\u001b[1;33m         \u001b[0mself\u001b[0m\u001b[1;33m.\u001b[0m\u001b[0m_engine\u001b[0m \u001b[1;33m=\u001b[0m \u001b[0mself\u001b[0m\u001b[1;33m.\u001b[0m\u001b[0m_make_engine\u001b[0m\u001b[1;33m(\u001b[0m\u001b[0mself\u001b[0m\u001b[1;33m.\u001b[0m\u001b[0mengine\u001b[0m\u001b[1;33m)\u001b[0m\u001b[1;33m\u001b[0m\u001b[1;33m\u001b[0m\u001b[0m\n\u001b[0m\u001b[0;32m    812\u001b[0m \u001b[1;33m\u001b[0m\u001b[0m\n\u001b[0;32m    813\u001b[0m     \u001b[1;32mdef\u001b[0m \u001b[0mclose\u001b[0m\u001b[1;33m(\u001b[0m\u001b[0mself\u001b[0m\u001b[1;33m)\u001b[0m\u001b[1;33m:\u001b[0m\u001b[1;33m\u001b[0m\u001b[1;33m\u001b[0m\u001b[0m\n",
      "\u001b[1;32m~\\anaconda3\\lib\\site-packages\\pandas\\io\\parsers\\readers.py\u001b[0m in \u001b[0;36m_make_engine\u001b[1;34m(self, engine)\u001b[0m\n\u001b[0;32m   1038\u001b[0m             )\n\u001b[0;32m   1039\u001b[0m         \u001b[1;31m# error: Too many arguments for \"ParserBase\"\u001b[0m\u001b[1;33m\u001b[0m\u001b[1;33m\u001b[0m\u001b[0m\n\u001b[1;32m-> 1040\u001b[1;33m         \u001b[1;32mreturn\u001b[0m \u001b[0mmapping\u001b[0m\u001b[1;33m[\u001b[0m\u001b[0mengine\u001b[0m\u001b[1;33m]\u001b[0m\u001b[1;33m(\u001b[0m\u001b[0mself\u001b[0m\u001b[1;33m.\u001b[0m\u001b[0mf\u001b[0m\u001b[1;33m,\u001b[0m \u001b[1;33m**\u001b[0m\u001b[0mself\u001b[0m\u001b[1;33m.\u001b[0m\u001b[0moptions\u001b[0m\u001b[1;33m)\u001b[0m  \u001b[1;31m# type: ignore[call-arg]\u001b[0m\u001b[1;33m\u001b[0m\u001b[1;33m\u001b[0m\u001b[0m\n\u001b[0m\u001b[0;32m   1041\u001b[0m \u001b[1;33m\u001b[0m\u001b[0m\n\u001b[0;32m   1042\u001b[0m     \u001b[1;32mdef\u001b[0m \u001b[0m_failover_to_python\u001b[0m\u001b[1;33m(\u001b[0m\u001b[0mself\u001b[0m\u001b[1;33m)\u001b[0m\u001b[1;33m:\u001b[0m\u001b[1;33m\u001b[0m\u001b[1;33m\u001b[0m\u001b[0m\n",
      "\u001b[1;32m~\\anaconda3\\lib\\site-packages\\pandas\\io\\parsers\\c_parser_wrapper.py\u001b[0m in \u001b[0;36m__init__\u001b[1;34m(self, src, **kwds)\u001b[0m\n\u001b[0;32m     49\u001b[0m \u001b[1;33m\u001b[0m\u001b[0m\n\u001b[0;32m     50\u001b[0m         \u001b[1;31m# open handles\u001b[0m\u001b[1;33m\u001b[0m\u001b[1;33m\u001b[0m\u001b[0m\n\u001b[1;32m---> 51\u001b[1;33m         \u001b[0mself\u001b[0m\u001b[1;33m.\u001b[0m\u001b[0m_open_handles\u001b[0m\u001b[1;33m(\u001b[0m\u001b[0msrc\u001b[0m\u001b[1;33m,\u001b[0m \u001b[0mkwds\u001b[0m\u001b[1;33m)\u001b[0m\u001b[1;33m\u001b[0m\u001b[1;33m\u001b[0m\u001b[0m\n\u001b[0m\u001b[0;32m     52\u001b[0m         \u001b[1;32massert\u001b[0m \u001b[0mself\u001b[0m\u001b[1;33m.\u001b[0m\u001b[0mhandles\u001b[0m \u001b[1;32mis\u001b[0m \u001b[1;32mnot\u001b[0m \u001b[1;32mNone\u001b[0m\u001b[1;33m\u001b[0m\u001b[1;33m\u001b[0m\u001b[0m\n\u001b[0;32m     53\u001b[0m \u001b[1;33m\u001b[0m\u001b[0m\n",
      "\u001b[1;32m~\\anaconda3\\lib\\site-packages\\pandas\\io\\parsers\\base_parser.py\u001b[0m in \u001b[0;36m_open_handles\u001b[1;34m(self, src, kwds)\u001b[0m\n\u001b[0;32m    220\u001b[0m         \u001b[0mLet\u001b[0m \u001b[0mthe\u001b[0m \u001b[0mreaders\u001b[0m \u001b[0mopen\u001b[0m \u001b[0mIOHandles\u001b[0m \u001b[0mafter\u001b[0m \u001b[0mthey\u001b[0m \u001b[0mare\u001b[0m \u001b[0mdone\u001b[0m \u001b[1;32mwith\u001b[0m \u001b[0mtheir\u001b[0m \u001b[0mpotential\u001b[0m \u001b[0mraises\u001b[0m\u001b[1;33m.\u001b[0m\u001b[1;33m\u001b[0m\u001b[1;33m\u001b[0m\u001b[0m\n\u001b[0;32m    221\u001b[0m         \"\"\"\n\u001b[1;32m--> 222\u001b[1;33m         self.handles = get_handle(\n\u001b[0m\u001b[0;32m    223\u001b[0m             \u001b[0msrc\u001b[0m\u001b[1;33m,\u001b[0m\u001b[1;33m\u001b[0m\u001b[1;33m\u001b[0m\u001b[0m\n\u001b[0;32m    224\u001b[0m             \u001b[1;34m\"r\"\u001b[0m\u001b[1;33m,\u001b[0m\u001b[1;33m\u001b[0m\u001b[1;33m\u001b[0m\u001b[0m\n",
      "\u001b[1;32m~\\anaconda3\\lib\\site-packages\\pandas\\io\\common.py\u001b[0m in \u001b[0;36mget_handle\u001b[1;34m(path_or_buf, mode, encoding, compression, memory_map, is_text, errors, storage_options)\u001b[0m\n\u001b[0;32m    700\u001b[0m         \u001b[1;32mif\u001b[0m \u001b[0mioargs\u001b[0m\u001b[1;33m.\u001b[0m\u001b[0mencoding\u001b[0m \u001b[1;32mand\u001b[0m \u001b[1;34m\"b\"\u001b[0m \u001b[1;32mnot\u001b[0m \u001b[1;32min\u001b[0m \u001b[0mioargs\u001b[0m\u001b[1;33m.\u001b[0m\u001b[0mmode\u001b[0m\u001b[1;33m:\u001b[0m\u001b[1;33m\u001b[0m\u001b[1;33m\u001b[0m\u001b[0m\n\u001b[0;32m    701\u001b[0m             \u001b[1;31m# Encoding\u001b[0m\u001b[1;33m\u001b[0m\u001b[1;33m\u001b[0m\u001b[0m\n\u001b[1;32m--> 702\u001b[1;33m             handle = open(\n\u001b[0m\u001b[0;32m    703\u001b[0m                 \u001b[0mhandle\u001b[0m\u001b[1;33m,\u001b[0m\u001b[1;33m\u001b[0m\u001b[1;33m\u001b[0m\u001b[0m\n\u001b[0;32m    704\u001b[0m                 \u001b[0mioargs\u001b[0m\u001b[1;33m.\u001b[0m\u001b[0mmode\u001b[0m\u001b[1;33m,\u001b[0m\u001b[1;33m\u001b[0m\u001b[1;33m\u001b[0m\u001b[0m\n",
      "\u001b[1;31mFileNotFoundError\u001b[0m: [Errno 2] No such file or directory: 'unique_vals.csv'"
     ]
    }
   ],
   "source": [
    "unique_df = pd.read_csv(\"unique_vals.csv\")\n",
    "unique_df.head(10)"
   ]
  },
  {
   "cell_type": "code",
   "execution_count": null,
   "metadata": {
    "colab": {
     "base_uri": "https://localhost:8080/",
     "height": 0
    },
    "id": "tzgo7zZ5SKAJ",
    "outputId": "9301bddd-175c-4264-c0f5-efbea427b4f9"
   },
   "outputs": [],
   "source": [
    "sns.set_theme(style=\"whitegrid\")\n",
    "ax = sns.barplot(x=\"index\", y=\"Unique_vals\",data=unique_df)\n",
    "ax.set_xticklabels(ax.get_xticklabels(),rotation = 90)"
   ]
  },
  {
   "cell_type": "code",
   "execution_count": null,
   "metadata": {
    "colab": {
     "base_uri": "https://localhost:8080/",
     "height": 0
    },
    "id": "ySCRzIOvSzIj",
    "outputId": "20b025b4-7487-4fee-f244-86f00b2b5cb9"
   },
   "outputs": [],
   "source": [
    "unique_df = unique_df.loc[unique_df['Unique_vals']<=9]\n",
    "unique_df"
   ]
  },
  {
   "cell_type": "code",
   "execution_count": null,
   "metadata": {
    "colab": {
     "base_uri": "https://localhost:8080/",
     "height": 0
    },
    "id": "9B0TGZUfTDNZ",
    "outputId": "51fa5424-0bad-468d-9b92-576720df9866"
   },
   "outputs": [],
   "source": [
    "sns.set_theme(style=\"whitegrid\")\n",
    "ax = sns.barplot(x=\"index\", y=\"Unique_vals\",data=unique_df)\n",
    "ax.set_xticklabels(ax.get_xticklabels(),rotation = 90)"
   ]
  },
  {
   "cell_type": "code",
   "execution_count": null,
   "metadata": {
    "colab": {
     "base_uri": "https://localhost:8080/"
    },
    "id": "qyHMgXvVXuAh",
    "outputId": "8d104b52-3a93-498d-8f43-157748de40d1"
   },
   "outputs": [],
   "source": [
    "null_numeric_counts = numeric_columns.isnull().sum()\n",
    "print(\"Null values in each column:\\n{}\".format(null_numeric_counts))"
   ]
  },
  {
   "cell_type": "markdown",
   "metadata": {
    "id": "BRJB4Dq9yep7"
   },
   "source": [
    "LotFrontage: Linear feet of street connected to property"
   ]
  },
  {
   "cell_type": "code",
   "execution_count": null,
   "metadata": {
    "colab": {
     "base_uri": "https://localhost:8080/"
    },
    "id": "oLzESq_8AUJ_",
    "outputId": "cc23ae50-cbad-4607-9f85-295554c3f0ad"
   },
   "outputs": [],
   "source": [
    "print(f\"Unique values in MasVnrArea columns: {housing_dataset['MasVnrArea'].unique()}, Total unique value count:{len(housing_dataset['MasVnrArea'].unique())} \")\n",
    "print(f\"Unique values in BsmtFinSF1 columns: {housing_dataset['BsmtFinSF1'].unique()}, Total unique value count:{len(housing_dataset['BsmtFinSF1'].unique())} \")\n",
    "print(f\"Unique values in BsmtFinSF2 columns: {housing_dataset['BsmtFinSF2'].unique()}, Total unique value count:{len(housing_dataset['BsmtFinSF2'].unique())} \")\n",
    "print(f\"Unique values in TotalBsmtSF columns: {housing_dataset['TotalBsmtSF'].unique()}, Total unique value count:{len(housing_dataset['TotalBsmtSF'].unique())} \")\n",
    "print(f\"Unique values in BsmtFullBath columns: {housing_dataset['BsmtFullBath'].unique()}, Total unique value count:{len(housing_dataset['BsmtFullBath'].unique())} \")\n",
    "print(f\"Unique values in BsmtHalfBath columns: {housing_dataset['BsmtHalfBath'].unique()}, Total unique value count:{len(housing_dataset['BsmtHalfBath'].unique())} \")\n",
    "print(f\"Unique values in GarageCars columns: {housing_dataset['GarageCars'].unique()}, Total unique value count:{len(housing_dataset['GarageCars'].unique())} \")\n",
    "print(f\"Unique values in GarageArea columns: {housing_dataset['GarageArea'].unique()}, Total unique value count:{len(housing_dataset['GarageArea'].unique())} \")"
   ]
  },
  {
   "cell_type": "code",
   "execution_count": null,
   "metadata": {
    "colab": {
     "base_uri": "https://localhost:8080/"
    },
    "id": "MzO_cZfsBei9",
    "outputId": "f00b00a8-01ab-4b79-ad09-01acdafb4487"
   },
   "outputs": [],
   "source": [
    "numeric_columns['GarageCars'] = numeric_columns['GarageCars'].fillna(0)"
   ]
  },
  {
   "cell_type": "code",
   "execution_count": null,
   "metadata": {
    "colab": {
     "base_uri": "https://localhost:8080/"
    },
    "id": "olzb6kZ2X4ka",
    "outputId": "1e9e9fe8-a34a-416d-bca1-7204e01cb587"
   },
   "outputs": [],
   "source": [
    "print(numeric_columns[\"LotFrontage\"].mean())"
   ]
  },
  {
   "cell_type": "code",
   "execution_count": null,
   "metadata": {
    "colab": {
     "base_uri": "https://localhost:8080/"
    },
    "id": "UTb2Mv19_luh",
    "outputId": "ae6a56fc-b2fe-47f2-cbc0-f953110b7231"
   },
   "outputs": [],
   "source": [
    "numeric_columns['LotFrontage'] = numeric_columns['LotFrontage'].fillna(numeric_columns[\"LotFrontage\"].mean())"
   ]
  },
  {
   "cell_type": "code",
   "execution_count": null,
   "metadata": {
    "colab": {
     "base_uri": "https://localhost:8080/"
    },
    "id": "EsQK5R96z7Tp",
    "outputId": "704f77b2-df67-47b9-f00e-f280d7c76c31"
   },
   "outputs": [],
   "source": [
    "print(numeric_columns['GarageYrBlt'])"
   ]
  },
  {
   "cell_type": "code",
   "execution_count": null,
   "metadata": {
    "colab": {
     "base_uri": "https://localhost:8080/"
    },
    "id": "blfFwH4t27GH",
    "outputId": "ffbe8ab6-27f2-4fde-b98d-2101fa569f39"
   },
   "outputs": [],
   "source": [
    "print((numeric_columns[\"YrSold\"]-numeric_columns[\"YearBuilt\"]).median())"
   ]
  },
  {
   "cell_type": "code",
   "execution_count": null,
   "metadata": {
    "colab": {
     "base_uri": "https://localhost:8080/"
    },
    "id": "p1XOf0f80Skr",
    "outputId": "a517982f-52b5-4c04-f6ba-01569d792255"
   },
   "outputs": [],
   "source": [
    "numeric_columns['GarageYrBlt'] = numeric_columns['GarageYrBlt'].fillna(numeric_columns['YrSold']-35)"
   ]
  },
  {
   "cell_type": "code",
   "execution_count": null,
   "metadata": {
    "colab": {
     "base_uri": "https://localhost:8080/"
    },
    "id": "_MkfMxBu_YLn",
    "outputId": "43282f6f-4f0e-4439-8c3f-1a3d75a4f113"
   },
   "outputs": [],
   "source": [
    "null_numeric_counts = numeric_columns.isnull().sum()\n",
    "print(\"Null values in each column:\\n{}\".format(null_numeric_counts))"
   ]
  },
  {
   "cell_type": "code",
   "execution_count": null,
   "metadata": {
    "colab": {
     "base_uri": "https://localhost:8080/"
    },
    "id": "SsJJImp_CBuL",
    "outputId": "2e150e2c-0461-4952-86d2-6cf2338a178c"
   },
   "outputs": [],
   "source": [
    "fewmiss_numeric_columns = ['MasVnrArea','BsmtFinSF1','BsmtFinSF2','TotalBsmtSF','BsmtUnfSF','BsmtFullBath','BsmtHalfBath','GarageCars','GarageArea']\n",
    "object_columns[fewmiss_numeric_columns] = numeric_columns[fewmiss_numeric_columns].fillna(numeric_columns.mode().iloc[0])"
   ]
  },
  {
   "cell_type": "code",
   "execution_count": null,
   "metadata": {
    "colab": {
     "base_uri": "https://localhost:8080/"
    },
    "id": "tn_C9MOW3V-6",
    "outputId": "ca2f2eb7-d7d6-43c8-9fe8-82bad851dbf0"
   },
   "outputs": [],
   "source": [
    "object_columns.columns"
   ]
  },
  {
   "cell_type": "markdown",
   "metadata": {
    "id": "XFEJ46cn8_4o"
   },
   "source": [
    "# Column-wise Variance Plotting"
   ]
  },
  {
   "cell_type": "code",
   "execution_count": null,
   "metadata": {
    "colab": {
     "base_uri": "https://localhost:8080/",
     "height": 0
    },
    "id": "GasPpbvF4Gam",
    "outputId": "4a420d9d-8bca-4e04-ce88-ab1fd1f4374a"
   },
   "outputs": [],
   "source": [
    "object_columns['MSZoning'].value_counts().plot(kind='bar',figsize=[7,7])\n",
    "object_columns['MSZoning'].value_counts() "
   ]
  },
  {
   "cell_type": "code",
   "execution_count": null,
   "metadata": {
    "colab": {
     "base_uri": "https://localhost:8080/",
     "height": 0
    },
    "id": "XQ9D0mJz4XWp",
    "outputId": "b83eb629-bf86-4023-92de-cc7db4185a5a"
   },
   "outputs": [],
   "source": [
    "object_columns['Street'].value_counts().plot(kind='bar',figsize=[7,7])\n",
    "object_columns['Street'].value_counts() "
   ]
  },
  {
   "cell_type": "code",
   "execution_count": null,
   "metadata": {
    "colab": {
     "base_uri": "https://localhost:8080/",
     "height": 0
    },
    "id": "KRtGUGiz5xIU",
    "outputId": "27964bb3-ccac-4c67-8424-f34b63a93d5d"
   },
   "outputs": [],
   "source": [
    "object_columns['LotShape'].value_counts().plot(kind='bar',figsize=[7,7])\n",
    "object_columns['LotShape'].value_counts() "
   ]
  },
  {
   "cell_type": "code",
   "execution_count": null,
   "metadata": {
    "colab": {
     "base_uri": "https://localhost:8080/",
     "height": 0
    },
    "id": "N3dbOT8f6LA-",
    "outputId": "431d539c-1297-42c8-f481-f0e8d0005c96"
   },
   "outputs": [],
   "source": [
    "object_columns['LandContour'].value_counts().plot(kind='bar',figsize=[7,7])\n",
    "object_columns['LandContour'].value_counts() "
   ]
  },
  {
   "cell_type": "code",
   "execution_count": null,
   "metadata": {
    "colab": {
     "base_uri": "https://localhost:8080/",
     "height": 0
    },
    "id": "HalzQz1S6aDz",
    "outputId": "c6ce279a-e42f-403d-e28d-96b98ed20f6f"
   },
   "outputs": [],
   "source": [
    "object_columns['Utilities'].value_counts().plot(kind='bar',figsize=[7,7])\n",
    "object_columns['Utilities'].value_counts() "
   ]
  },
  {
   "cell_type": "code",
   "execution_count": null,
   "metadata": {
    "colab": {
     "base_uri": "https://localhost:8080/",
     "height": 0
    },
    "id": "Rnd-7-6AmLCe",
    "outputId": "1bf31ed7-a491-41b6-931b-3cccb62d7423"
   },
   "outputs": [],
   "source": [
    "object_columns['LotConfig'].value_counts().plot(kind='bar',figsize=[7,7])\n",
    "object_columns['LotConfig'].value_counts() "
   ]
  },
  {
   "cell_type": "code",
   "execution_count": null,
   "metadata": {
    "colab": {
     "base_uri": "https://localhost:8080/",
     "height": 0
    },
    "id": "pOnBOFH7mLAK",
    "outputId": "24b4474b-de40-4fbb-e354-41509e0d7207"
   },
   "outputs": [],
   "source": [
    "object_columns['LandSlope'].value_counts().plot(kind='bar',figsize=[7,7])\n",
    "object_columns['LandSlope'].value_counts() "
   ]
  },
  {
   "cell_type": "code",
   "execution_count": null,
   "metadata": {
    "colab": {
     "base_uri": "https://localhost:8080/",
     "height": 0
    },
    "id": "ZBHt-UN1mK9z",
    "outputId": "7c672171-a183-4612-a31e-282a8ce17215"
   },
   "outputs": [],
   "source": [
    "object_columns['Neighborhood'].value_counts().plot(kind='bar',figsize=[7,7])\n",
    "object_columns['Neighborhood'].value_counts() "
   ]
  },
  {
   "cell_type": "code",
   "execution_count": null,
   "metadata": {
    "colab": {
     "base_uri": "https://localhost:8080/",
     "height": 0
    },
    "id": "u8tFUj9UmK7k",
    "outputId": "255b52db-7ddd-4240-abe4-3a70610233d0"
   },
   "outputs": [],
   "source": [
    "object_columns['Condition1'].value_counts().plot(kind='bar',figsize=[7,7])\n",
    "object_columns['Condition1'].value_counts() "
   ]
  },
  {
   "cell_type": "code",
   "execution_count": null,
   "metadata": {
    "colab": {
     "base_uri": "https://localhost:8080/",
     "height": 0
    },
    "id": "lYIYbig7mK5Z",
    "outputId": "d3d8dd7b-4d23-440d-b9dd-5db83520b023"
   },
   "outputs": [],
   "source": [
    "object_columns['Condition2'].value_counts().plot(kind='bar',figsize=[7,7])\n",
    "object_columns['Condition2'].value_counts() "
   ]
  },
  {
   "cell_type": "code",
   "execution_count": null,
   "metadata": {
    "colab": {
     "base_uri": "https://localhost:8080/",
     "height": 0
    },
    "id": "ozQ4Y2eQmK3U",
    "outputId": "ebfa71e8-80db-4123-bb08-52e7ae577268"
   },
   "outputs": [],
   "source": [
    "object_columns['BldgType'].value_counts().plot(kind='bar',figsize=[7,7])\n",
    "object_columns['BldgType'].value_counts() "
   ]
  },
  {
   "cell_type": "code",
   "execution_count": null,
   "metadata": {
    "colab": {
     "base_uri": "https://localhost:8080/",
     "height": 0
    },
    "id": "D0lP6wnOmK1P",
    "outputId": "5b9c707f-f7a6-40de-c054-4b1a4251c3f1"
   },
   "outputs": [],
   "source": [
    "object_columns['HouseStyle'].value_counts().plot(kind='bar',figsize=[7,7])\n",
    "object_columns['HouseStyle'].value_counts() "
   ]
  },
  {
   "cell_type": "code",
   "execution_count": null,
   "metadata": {
    "colab": {
     "base_uri": "https://localhost:8080/",
     "height": 0
    },
    "id": "j6wRhCacmKzH",
    "outputId": "7a40e7a3-b8f3-408e-bbb1-4e927ff46d66"
   },
   "outputs": [],
   "source": [
    "object_columns['RoofStyle'].value_counts().plot(kind='bar',figsize=[7,7])\n",
    "object_columns['RoofStyle'].value_counts() "
   ]
  },
  {
   "cell_type": "code",
   "execution_count": null,
   "metadata": {
    "colab": {
     "base_uri": "https://localhost:8080/",
     "height": 0
    },
    "id": "lQj1RTOFmKw4",
    "outputId": "9b9b64d7-8455-4bf7-9b93-d3bce6d4f703"
   },
   "outputs": [],
   "source": [
    "object_columns['RoofMatl'].value_counts().plot(kind='bar',figsize=[7,7])\n",
    "object_columns['RoofMatl'].value_counts() "
   ]
  },
  {
   "cell_type": "code",
   "execution_count": null,
   "metadata": {
    "colab": {
     "base_uri": "https://localhost:8080/",
     "height": 0
    },
    "id": "BqC0y1pBmKtZ",
    "outputId": "e6136ccc-c387-4466-d483-0d1508205ad8"
   },
   "outputs": [],
   "source": [
    "object_columns['Exterior1st'].value_counts().plot(kind='bar',figsize=[7,7])\n",
    "object_columns['Exterior1st'].value_counts() "
   ]
  },
  {
   "cell_type": "code",
   "execution_count": null,
   "metadata": {
    "colab": {
     "base_uri": "https://localhost:8080/",
     "height": 0
    },
    "id": "CW74bxqEmKrT",
    "outputId": "11325362-c44e-4e7c-d9a9-79b4eef35e62"
   },
   "outputs": [],
   "source": [
    "object_columns['Exterior2nd'].value_counts().plot(kind='bar',figsize=[7,7])\n",
    "object_columns['Exterior2nd'].value_counts() "
   ]
  },
  {
   "cell_type": "code",
   "execution_count": null,
   "metadata": {
    "colab": {
     "base_uri": "https://localhost:8080/",
     "height": 0
    },
    "id": "7NwP_m1-mKpC",
    "outputId": "9164966c-cf68-4797-a313-d2b951cab457"
   },
   "outputs": [],
   "source": [
    "object_columns['MasVnrType'].value_counts().plot(kind='bar',figsize=[7,7])\n",
    "object_columns['MasVnrType'].value_counts() "
   ]
  },
  {
   "cell_type": "code",
   "execution_count": null,
   "metadata": {
    "colab": {
     "base_uri": "https://localhost:8080/",
     "height": 0
    },
    "id": "40ekfPwlmKm6",
    "outputId": "19d447b3-6f4e-4880-de31-e904a0618ff2"
   },
   "outputs": [],
   "source": [
    "object_columns['ExterQual'].value_counts().plot(kind='bar',figsize=[7,7])\n",
    "object_columns['ExterQual'].value_counts() "
   ]
  },
  {
   "cell_type": "code",
   "execution_count": null,
   "metadata": {
    "colab": {
     "base_uri": "https://localhost:8080/",
     "height": 0
    },
    "id": "u9GuGEDsmKk0",
    "outputId": "5593184f-9556-45e5-ba7d-4df1dd0431f7"
   },
   "outputs": [],
   "source": [
    "object_columns['ExterCond'].value_counts().plot(kind='bar',figsize=[7,7])\n",
    "object_columns['ExterCond'].value_counts() "
   ]
  },
  {
   "cell_type": "code",
   "execution_count": null,
   "metadata": {
    "colab": {
     "base_uri": "https://localhost:8080/",
     "height": 0
    },
    "id": "45IQIqWDmKie",
    "outputId": "c3158b74-e955-4cfb-d9ee-7827aca57ef4"
   },
   "outputs": [],
   "source": [
    "object_columns['Foundation'].value_counts().plot(kind='bar',figsize=[7,7])\n",
    "object_columns['Foundation'].value_counts() "
   ]
  },
  {
   "cell_type": "code",
   "execution_count": null,
   "metadata": {
    "colab": {
     "base_uri": "https://localhost:8080/",
     "height": 0
    },
    "id": "qUW4smSBmKgH",
    "outputId": "0b07be10-afc9-4bce-88dc-fc288378b331"
   },
   "outputs": [],
   "source": [
    "object_columns['BsmtQual'].value_counts().plot(kind='bar',figsize=[7,7])\n",
    "object_columns['BsmtQual'].value_counts() "
   ]
  },
  {
   "cell_type": "code",
   "execution_count": null,
   "metadata": {
    "colab": {
     "base_uri": "https://localhost:8080/",
     "height": 0
    },
    "id": "jUJ4lUPTmKeC",
    "outputId": "4e65e7ae-76ba-496b-e596-320b3f64bd6e"
   },
   "outputs": [],
   "source": [
    "object_columns['BsmtCond'].value_counts().plot(kind='bar',figsize=[7,7])\n",
    "object_columns['BsmtCond'].value_counts() "
   ]
  },
  {
   "cell_type": "code",
   "execution_count": null,
   "metadata": {
    "colab": {
     "base_uri": "https://localhost:8080/",
     "height": 0
    },
    "id": "Xh5APi2TmKbd",
    "outputId": "2c747042-c539-4dd4-8837-da36e37fe270"
   },
   "outputs": [],
   "source": [
    "object_columns['BsmtExposure'].value_counts().plot(kind='bar',figsize=[7,7])\n",
    "object_columns['BsmtExposure'].value_counts() "
   ]
  },
  {
   "cell_type": "code",
   "execution_count": null,
   "metadata": {
    "colab": {
     "base_uri": "https://localhost:8080/",
     "height": 0
    },
    "id": "a7zaF7GfmKZE",
    "outputId": "516eee9a-8c94-475d-a93a-0b5fce36b395"
   },
   "outputs": [],
   "source": [
    "object_columns['BsmtFinType1'].value_counts().plot(kind='bar',figsize=[7,7])\n",
    "object_columns['BsmtFinType1'].value_counts() "
   ]
  },
  {
   "cell_type": "code",
   "execution_count": null,
   "metadata": {
    "colab": {
     "base_uri": "https://localhost:8080/",
     "height": 0
    },
    "id": "H1P15YTamKWe",
    "outputId": "efeb4235-367c-4d44-8352-953b687e68c9"
   },
   "outputs": [],
   "source": [
    "object_columns['Heating'].value_counts().plot(kind='bar',figsize=[7,7])\n",
    "object_columns['Heating'].value_counts() "
   ]
  },
  {
   "cell_type": "code",
   "execution_count": null,
   "metadata": {
    "colab": {
     "base_uri": "https://localhost:8080/",
     "height": 0
    },
    "id": "myqLl0oqmKQ6",
    "outputId": "9431a0c7-46f4-49f8-c72a-da5595e68498"
   },
   "outputs": [],
   "source": [
    "object_columns['HeatingQC'].value_counts().plot(kind='bar',figsize=[7,7])\n",
    "object_columns['HeatingQC'].value_counts() "
   ]
  },
  {
   "cell_type": "code",
   "execution_count": null,
   "metadata": {
    "colab": {
     "base_uri": "https://localhost:8080/",
     "height": 0
    },
    "id": "n8yCvXbLmJho",
    "outputId": "633da4f3-6314-486b-cc6e-9a365b50c1aa"
   },
   "outputs": [],
   "source": [
    "object_columns['CentralAir'].value_counts().plot(kind='bar',figsize=[7,7])\n",
    "object_columns['CentralAir'].value_counts() "
   ]
  },
  {
   "cell_type": "code",
   "execution_count": null,
   "metadata": {
    "colab": {
     "base_uri": "https://localhost:8080/",
     "height": 0
    },
    "id": "b0zHn5CInacU",
    "outputId": "b5f57cf2-4327-4d8d-c803-a07aefdd6291"
   },
   "outputs": [],
   "source": [
    "object_columns['Electrical'].value_counts().plot(kind='bar',figsize=[7,7])\n",
    "object_columns['Electrical'].value_counts() "
   ]
  },
  {
   "cell_type": "code",
   "execution_count": null,
   "metadata": {
    "colab": {
     "base_uri": "https://localhost:8080/",
     "height": 0
    },
    "id": "PE9_nLqfnaZv",
    "outputId": "6cdfcaaa-6def-43e5-f3cf-72274f7263e7"
   },
   "outputs": [],
   "source": [
    "object_columns['KitchenQual'].value_counts().plot(kind='bar',figsize=[7,7])\n",
    "object_columns['KitchenQual'].value_counts() "
   ]
  },
  {
   "cell_type": "code",
   "execution_count": null,
   "metadata": {
    "colab": {
     "base_uri": "https://localhost:8080/",
     "height": 0
    },
    "id": "Es4sXkujnaXI",
    "outputId": "79a04d21-f09e-4a97-e3ac-328e3da94cb8"
   },
   "outputs": [],
   "source": [
    "object_columns['Functional'].value_counts().plot(kind='bar',figsize=[7,7])\n",
    "object_columns['Functional'].value_counts() "
   ]
  },
  {
   "cell_type": "code",
   "execution_count": null,
   "metadata": {
    "colab": {
     "base_uri": "https://localhost:8080/",
     "height": 0
    },
    "id": "lrOw55sjnaUv",
    "outputId": "347ad128-5ebf-4734-d259-f0387148df86"
   },
   "outputs": [],
   "source": [
    "object_columns['FireplaceQu'].value_counts().plot(kind='bar',figsize=[7,7])\n",
    "object_columns['FireplaceQu'].value_counts() "
   ]
  },
  {
   "cell_type": "code",
   "execution_count": null,
   "metadata": {
    "colab": {
     "base_uri": "https://localhost:8080/",
     "height": 0
    },
    "id": "PyVrnglVnaSL",
    "outputId": "d86d4634-7430-402e-e1bd-ec757bff6e4b"
   },
   "outputs": [],
   "source": [
    "object_columns['GarageType'].value_counts().plot(kind='bar',figsize=[7,7])\n",
    "object_columns['GarageType'].value_counts() "
   ]
  },
  {
   "cell_type": "code",
   "execution_count": null,
   "metadata": {
    "colab": {
     "base_uri": "https://localhost:8080/",
     "height": 0
    },
    "id": "fgy4zYSznaPj",
    "outputId": "0d0fba10-f84f-4362-e77b-fdeb8c58ac52"
   },
   "outputs": [],
   "source": [
    "object_columns['GarageFinish'].value_counts().plot(kind='bar',figsize=[7,7])\n",
    "object_columns['GarageFinish'].value_counts() "
   ]
  },
  {
   "cell_type": "code",
   "execution_count": null,
   "metadata": {
    "colab": {
     "base_uri": "https://localhost:8080/",
     "height": 0
    },
    "id": "bi6gYGHMnaNP",
    "outputId": "9d62cafc-935d-41ac-86e2-41f0a5a73e4c"
   },
   "outputs": [],
   "source": [
    "object_columns['GarageQual'].value_counts().plot(kind='bar',figsize=[7,7])\n",
    "object_columns['GarageQual'].value_counts() "
   ]
  },
  {
   "cell_type": "code",
   "execution_count": null,
   "metadata": {
    "colab": {
     "base_uri": "https://localhost:8080/",
     "height": 0
    },
    "id": "ZZMvXrK9naK4",
    "outputId": "ae861b76-1d20-4310-dc4f-363d31144e74"
   },
   "outputs": [],
   "source": [
    "object_columns['GarageCond'].value_counts().plot(kind='bar',figsize=[7,7])\n",
    "object_columns['GarageCond'].value_counts() "
   ]
  },
  {
   "cell_type": "code",
   "execution_count": null,
   "metadata": {
    "colab": {
     "base_uri": "https://localhost:8080/",
     "height": 0
    },
    "id": "WGkTCtlOnaIj",
    "outputId": "c3aa8b8b-4fec-494b-b6fa-137e83683a79"
   },
   "outputs": [],
   "source": [
    "object_columns['PavedDrive'].value_counts().plot(kind='bar',figsize=[7,7])\n",
    "object_columns['PavedDrive'].value_counts() "
   ]
  },
  {
   "cell_type": "code",
   "execution_count": null,
   "metadata": {
    "colab": {
     "base_uri": "https://localhost:8080/",
     "height": 0
    },
    "id": "rPNNBxCdnaGc",
    "outputId": "690a9773-c81b-44ff-8b44-31e143737bba"
   },
   "outputs": [],
   "source": [
    "object_columns['SaleType'].value_counts().plot(kind='bar',figsize=[7,7])\n",
    "object_columns['SaleType'].value_counts() "
   ]
  },
  {
   "cell_type": "code",
   "execution_count": null,
   "metadata": {
    "colab": {
     "base_uri": "https://localhost:8080/",
     "height": 0
    },
    "id": "EtOFUwaRnaEG",
    "outputId": "b38550e5-204a-420a-f974-6bcd75f2daaf"
   },
   "outputs": [],
   "source": [
    "object_columns['SaleCondition'].value_counts().plot(kind='bar',figsize=[7,7])\n",
    "object_columns['SaleCondition'].value_counts() "
   ]
  },
  {
   "cell_type": "code",
   "execution_count": null,
   "metadata": {
    "colab": {
     "base_uri": "https://localhost:8080/",
     "height": 0
    },
    "id": "JIH7Awv-nZ2T",
    "outputId": "69cd649f-14ad-4d12-9d0c-22cef8045d58"
   },
   "outputs": [],
   "source": [
    "object_columns['BsmtFullBath'].value_counts().plot(kind='bar',figsize=[7,7])\n",
    "object_columns['BsmtFullBath'].value_counts() "
   ]
  },
  {
   "cell_type": "code",
   "execution_count": null,
   "metadata": {
    "colab": {
     "base_uri": "https://localhost:8080/",
     "height": 0
    },
    "id": "MkaGMR3wnZ0G",
    "outputId": "fc3dc145-88c2-41f6-fdf4-26eb8d5f9c32"
   },
   "outputs": [],
   "source": [
    "object_columns['BsmtHalfBath'].value_counts().plot(kind='bar',figsize=[7,7])\n",
    "object_columns['BsmtHalfBath'].value_counts() "
   ]
  },
  {
   "cell_type": "code",
   "execution_count": null,
   "metadata": {
    "colab": {
     "base_uri": "https://localhost:8080/",
     "height": 0
    },
    "id": "jv1a-cVhnZuv",
    "outputId": "85684cab-23e6-41c9-ff28-05562cb9ab8b"
   },
   "outputs": [],
   "source": [
    "object_columns['GarageCars'].value_counts().plot(kind='bar',figsize=[7,7])\n",
    "object_columns['GarageCars'].value_counts() "
   ]
  },
  {
   "cell_type": "code",
   "execution_count": null,
   "metadata": {
    "id": "3nCpjYacqxDn"
   },
   "outputs": [],
   "source": []
  },
  {
   "cell_type": "markdown",
   "metadata": {
    "id": "foDeO0BIq1-K"
   },
   "source": [
    "After looking at the above variance for all the categorical columns. I have decided to remove RoofMatl,Condition2, Utilities, Street and Heating column becuase the distribution of data is very uneven in those columns."
   ]
  },
  {
   "cell_type": "code",
   "execution_count": null,
   "metadata": {
    "id": "oN5MAfHWqwp2"
   },
   "outputs": [],
   "source": [
    "object_columns = object_columns.drop(['Utilities','Condition2','Heating','Utilities','RoofMatl','Street'], axis=1)"
   ]
  },
  {
   "cell_type": "markdown",
   "metadata": {
    "id": "NwdgSBTB8z1G"
   },
   "source": [
    "# Feature Addition"
   ]
  },
  {
   "cell_type": "code",
   "execution_count": null,
   "metadata": {
    "colab": {
     "base_uri": "https://localhost:8080/"
    },
    "id": "ZdtIaaDPsZFY",
    "outputId": "8d330059-679f-47e9-dd27-e51496754516"
   },
   "outputs": [],
   "source": [
    "numeric_columns[\"Age_of_house\"] = numeric_columns['YrSold'] - numeric_columns['YearBuilt']"
   ]
  },
  {
   "cell_type": "code",
   "execution_count": null,
   "metadata": {
    "colab": {
     "base_uri": "https://localhost:8080/"
    },
    "id": "gt2IkdWZsqEM",
    "outputId": "e5e3252f-e35b-44de-a8ae-d18ebe683ec6"
   },
   "outputs": [],
   "source": [
    "numeric_columns['Age_of_house'].describe()"
   ]
  },
  {
   "cell_type": "markdown",
   "metadata": {
    "id": "CWAipjV8tceo"
   },
   "source": [
    "Negative minimum value is identified for age of house, which is not appropriate. Hence we need to look where the negative value is found."
   ]
  },
  {
   "cell_type": "code",
   "execution_count": null,
   "metadata": {
    "id": "Dvv755oTsxoe"
   },
   "outputs": [],
   "source": [
    "find_neg = numeric_columns[numeric_columns['Age_of_house'] < 0]"
   ]
  },
  {
   "cell_type": "code",
   "execution_count": null,
   "metadata": {
    "colab": {
     "base_uri": "https://localhost:8080/",
     "height": 0
    },
    "id": "V6t5YOzvtuSH",
    "outputId": "eea85ede-4662-44a0-b691-7e73d8daa232"
   },
   "outputs": [],
   "source": [
    "find_neg"
   ]
  },
  {
   "cell_type": "markdown",
   "metadata": {
    "id": "SiC7YJDWuGS7"
   },
   "source": [
    "The remodelling date of the house is found to be 2009. So we will change the year sold date to 2009"
   ]
  },
  {
   "cell_type": "code",
   "execution_count": null,
   "metadata": {
    "colab": {
     "base_uri": "https://localhost:8080/"
    },
    "id": "2BreeEpEtweE",
    "outputId": "f4dd8547-40e3-4911-fa19-b636e6643cd1"
   },
   "outputs": [],
   "source": [
    "numeric_columns.loc[numeric_columns['YrSold']< numeric_columns['YearBuilt'], 'YrSold'] = 2009\n",
    "numeric_columns['Age_of_house'] = numeric_columns['YrSold'] - numeric_columns['YearBuilt']\n",
    "numeric_columns['Age_of_house'].describe()"
   ]
  },
  {
   "cell_type": "markdown",
   "metadata": {
    "id": "clhiVye4vf_g"
   },
   "source": [
    "##Identifying the outliers by comparing the features \"LotArea\" & \"GrLivArea\" with SalePrice."
   ]
  },
  {
   "cell_type": "code",
   "execution_count": null,
   "metadata": {
    "colab": {
     "base_uri": "https://localhost:8080/",
     "height": 0
    },
    "id": "056HjYY2vjOt",
    "outputId": "b8c25935-89ac-4e71-cd38-f0cdf6402a59"
   },
   "outputs": [],
   "source": [
    "def outlier_visualization(feature):\n",
    "    plt.figure(figsize=(10, 10))\n",
    "    plt.scatter(x = housing_dataset[feature], y = housing_dataset['SalePrice'], marker = \"*\", edgecolors = \"Red\")\n",
    "    plt.ylabel('SalePrice', fontsize=13)\n",
    "    plt.xlabel(feature, fontsize=13)\n",
    "    plt.show()\n",
    "\n",
    "outlier_visualization('LotArea')\n",
    "outlier_visualization('GrLivArea')"
   ]
  },
  {
   "cell_type": "code",
   "execution_count": null,
   "metadata": {
    "colab": {
     "base_uri": "https://localhost:8080/",
     "height": 0
    },
    "id": "gA0vBeoDvqsB",
    "outputId": "6bdb000c-5fd1-41ce-b60b-ccd4d0e6bd52"
   },
   "outputs": [],
   "source": [
    "\n",
    "housing_dataset = housing_dataset.drop(housing_dataset[(housing_dataset['LotArea']>100000) & (housing_dataset['SalePrice']<400000)].index)\n",
    "\n",
    "outlier_visualization('LotArea')\n",
    "\n",
    "housing_dataset = housing_dataset.drop(housing_dataset[(housing_dataset['GrLivArea']>4000) & (housing_dataset['SalePrice']<300000)].index)\n",
    "outlier_visualization('GrLivArea')"
   ]
  },
  {
   "cell_type": "markdown",
   "metadata": {
    "id": "GFgGJ4LiVYc5"
   },
   "source": [
    "## Data Correleation"
   ]
  },
  {
   "cell_type": "markdown",
   "metadata": {
    "id": "ionaBzpeVc3Y"
   },
   "source": [
    "Correlation map to see how features are correlated with SalePrice"
   ]
  },
  {
   "cell_type": "code",
   "execution_count": null,
   "metadata": {
    "colab": {
     "base_uri": "https://localhost:8080/",
     "height": 0
    },
    "id": "Y9AYBtnb9bTZ",
    "outputId": "0788681f-6c9c-4518-cece-d23fd7161f00"
   },
   "outputs": [],
   "source": [
    "def correlation_matrix():\n",
    "    corr_matrix = housing_dataset.corr()\n",
    "    plt.subplots(figsize=(15,12))\n",
    "    sns.color_palette(\"bright\")\n",
    "    sns.heatmap(corr_matrix, vmax=0.9, square=True, cmap=\"Blues\")\n",
    "correlation_matrix()"
   ]
  },
  {
   "cell_type": "code",
   "execution_count": null,
   "metadata": {
    "colab": {
     "base_uri": "https://localhost:8080/"
    },
    "id": "unRoEWyvwq7C",
    "outputId": "df57aa82-5013-445b-8bbc-cc1d603b7536"
   },
   "outputs": [],
   "source": [
    "housing_dataset = housing_dataset.drop(['SalePrice'],axis=1)\n",
    "housing_dataset = housing_dataset.set_index('Id') # Settting to id because it is required in the submission format\n",
    "test_dataset = test_dataset.set_index('Id')\n",
    "\n",
    "housing_dataset.shape"
   ]
  },
  {
   "cell_type": "code",
   "execution_count": null,
   "metadata": {
    "colab": {
     "base_uri": "https://localhost:8080/"
    },
    "id": "aD650ApZxL0b",
    "outputId": "1c4ff2f0-013f-49b6-ec7b-123da01dd4e4"
   },
   "outputs": [],
   "source": [
    "housing_dataset.iloc[:1,2]"
   ]
  },
  {
   "cell_type": "code",
   "execution_count": null,
   "metadata": {
    "id": "aY_UmE2AXWIm"
   },
   "outputs": [],
   "source": [
    "transformed_dataset = pd.concat([object_columns, numeric_columns], axis=1,sort=False)"
   ]
  },
  {
   "cell_type": "markdown",
   "metadata": {
    "id": "V4T8tRj7XlW1"
   },
   "source": []
  },
  {
   "cell_type": "code",
   "execution_count": null,
   "metadata": {
    "colab": {
     "base_uri": "https://localhost:8080/",
     "height": 0
    },
    "id": "wD6h2_ITXmJH",
    "outputId": "5cd014a4-9c25-4dfe-b52f-891f0f6c03e4"
   },
   "outputs": [],
   "source": [
    "transformed_dataset"
   ]
  },
  {
   "cell_type": "code",
   "execution_count": null,
   "metadata": {
    "colab": {
     "base_uri": "https://localhost:8080/"
    },
    "id": "f_VzQCXEYnF6",
    "outputId": "4a206cf3-252b-4fa9-da85-9a39aef8f82b"
   },
   "outputs": [],
   "source": [
    "transformed_dataset.isna().sum()"
   ]
  },
  {
   "cell_type": "markdown",
   "metadata": {
    "id": "q35UaBEDWpox"
   },
   "source": [
    "## Logarithmic Transformation"
   ]
  },
  {
   "cell_type": "code",
   "execution_count": null,
   "metadata": {
    "colab": {
     "base_uri": "https://localhost:8080/",
     "height": 0
    },
    "id": "OLM73_Bx5MSE",
    "outputId": "742ae081-ce57-49a5-d502-02d7eadf994f"
   },
   "outputs": [],
   "source": [
    "from scipy.stats import skew, norm, probplot\n",
    "y = copy_train['SalePrice']\n",
    "fig = plt.figure(figsize=(10,10))\n",
    "sns.distplot(y , fit=norm);\n",
    "\n",
    "(mu, sigma) = norm.fit(y)\n",
    "print( '\\n mu = {:.2f} and sigma = {:.2f}\\n'.format(mu, sigma))\n",
    "\n",
    "plt.legend(['Normal dist. ($\\mu=$ {:.2f} and $\\sigma=$ {:.2f} )'.format(mu, sigma)],\n",
    "            loc='best')\n",
    "plt.ylabel('Frequency')\n",
    "plt.title('SalePrice distribution')\n",
    "\n",
    "# QQ-plot\n",
    "fig = plt.figure(figsize=(10,10))\n",
    "res = probplot(y, plot=plt)\n",
    "plt.show()"
   ]
  },
  {
   "cell_type": "markdown",
   "metadata": {
    "id": "jGg8SMfLZbNs"
   },
   "source": [
    "# Plotting displot for the Saleprice"
   ]
  },
  {
   "cell_type": "code",
   "execution_count": null,
   "metadata": {
    "colab": {
     "base_uri": "https://localhost:8080/",
     "height": 0
    },
    "id": "KBdyhdDQWywk",
    "outputId": "90508063-e16e-41bf-8ffb-fefce87b8551"
   },
   "outputs": [],
   "source": [
    "y = np.log( copy_train['SalePrice'])\n",
    "\n",
    "fig = plt.figure(figsize=(10,10))\n",
    "sns.distplot(y , fit=norm);\n",
    "(mu, sigma) = norm.fit(y)\n",
    "print( '\\n mu = {:.2f} and sigma = {:.2f}\\n'.format(mu, sigma))\n",
    "plt.legend(['Normal dist. ($\\mu=$ {:.2f} and $\\sigma=$ {:.2f} )'.format(mu, sigma)],\n",
    "            loc='best')\n",
    "plt.ylabel('Frequency')\n",
    "plt.title('SalePrice distribution')\n",
    "\n",
    "fig = plt.figure(figsize=(10,10))\n",
    "res = probplot(y, plot=plt)\n",
    "plt.show()"
   ]
  },
  {
   "cell_type": "markdown",
   "metadata": {
    "id": "Bv5Es88NZ58C"
   },
   "source": [
    "## Transforming some numerical variables that are categorical"
   ]
  },
  {
   "cell_type": "code",
   "execution_count": null,
   "metadata": {
    "id": "te-lVfthZ6bo"
   },
   "outputs": [],
   "source": [
    "#MSSubClass=The building class\n",
    "transformed_dataset['MSSubClass'] = transformed_dataset['MSSubClass'].apply(str)\n",
    "\n",
    "#Changing 'OverallCond' into a categorical variable\n",
    "transformed_dataset['OverallCond'] = transformed_dataset['OverallCond'].astype(str)\n",
    "\n",
    "#Year and month sold are transformed into categorical features.\n",
    "transformed_dataset['YrSold'] = transformed_dataset['YrSold'].astype(str)\n",
    "transformed_dataset['MoSold'] = transformed_dataset['MoSold'].astype(str)"
   ]
  },
  {
   "cell_type": "code",
   "execution_count": null,
   "metadata": {
    "colab": {
     "base_uri": "https://localhost:8080/"
    },
    "id": "V-qSZn-WZ-Nk",
    "outputId": "fcda409f-7f08-420c-acbc-072f2be0586d"
   },
   "outputs": [],
   "source": [
    "from sklearn.preprocessing import LabelEncoder\n",
    "cols = ('FireplaceQu', 'BsmtQual', 'BsmtCond', 'GarageQual', 'GarageCond', \n",
    "        'ExterQual', 'ExterCond','HeatingQC', 'KitchenQual', 'BsmtFinType1', \n",
    "        'BsmtFinType2', 'Functional', 'BsmtExposure', 'GarageFinish', 'LandSlope',\n",
    "        'LotShape', 'PavedDrive', 'CentralAir', 'MSSubClass', 'OverallCond', \n",
    "        'YrSold', 'MoSold')\n",
    "\n",
    "# Below we process columns, apply LabelEncoder to categorical features\n",
    "for c in cols:\n",
    "    lbl = LabelEncoder() \n",
    "    lbl.fit(list(transformed_dataset[c].values)) \n",
    "    transformed_dataset[c] = lbl.transform(list(transformed_dataset[c].values))\n",
    "      \n",
    "print('Shape all_data: {}'.format(transformed_dataset.shape))"
   ]
  },
  {
   "cell_type": "markdown",
   "metadata": {
    "id": "WgcFTVfsctuP"
   },
   "source": [
    "#Getting dummy categorical features"
   ]
  },
  {
   "cell_type": "code",
   "execution_count": null,
   "metadata": {
    "colab": {
     "base_uri": "https://localhost:8080/"
    },
    "id": "cq6KA93YbxDb",
    "outputId": "dd69c400-32ac-4651-dcaf-6df31e0842e3"
   },
   "outputs": [],
   "source": [
    "transformed_dataset = pd.get_dummies(transformed_dataset)\n",
    "print(transformed_dataset.shape)\n",
    "\n",
    "ntrain = housing_dataset.shape[0]\n",
    "ntest = test_dataset.shape[0]\n",
    "copy_train = transformed_dataset[:ntrain]\n",
    "copy_test = transformed_dataset[ntrain:]"
   ]
  },
  {
   "cell_type": "code",
   "execution_count": null,
   "metadata": {},
   "outputs": [],
   "source": []
  }
 ],
 "metadata": {
  "colab": {
   "collapsed_sections": [
    "XFEJ46cn8_4o"
   ],
   "include_colab_link": true,
   "name": "02_imputation_visualization_analysis_encoding_fadd_avprashanth.ipynb",
   "provenance": []
  },
  "kernelspec": {
   "display_name": "Python 3 (ipykernel)",
   "language": "python",
   "name": "python3"
  },
  "language_info": {
   "codemirror_mode": {
    "name": "ipython",
    "version": 3
   },
   "file_extension": ".py",
   "mimetype": "text/x-python",
   "name": "python",
   "nbconvert_exporter": "python",
   "pygments_lexer": "ipython3",
   "version": "3.9.7"
  }
 },
 "nbformat": 4,
 "nbformat_minor": 1
}
